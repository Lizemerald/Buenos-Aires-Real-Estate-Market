{
 "cells": [
  {
   "cell_type": "markdown",
   "id": "b0a4a3f6",
   "metadata": {},
   "source": [
    "# Determining The Regional Difference in Brazil Real Estate Market"
   ]
  },
  {
   "cell_type": "code",
   "execution_count": 1,
   "id": "6909e764",
   "metadata": {},
   "outputs": [],
   "source": [
    "## import libraries\n",
    "import pandas as pd"
   ]
  },
  {
   "cell_type": "code",
   "execution_count": 2,
   "id": "c7d65fa7",
   "metadata": {},
   "outputs": [
    {
     "name": "stdout",
     "output_type": "stream",
     "text": [
      "<class 'pandas.core.frame.DataFrame'>\n",
      "Int64Index: 12834 entries, 1 to 12834\n",
      "Data columns (total 6 columns):\n",
      " #   Column                   Non-Null Count  Dtype  \n",
      "---  ------                   --------------  -----  \n",
      " 0   property_type            12834 non-null  object \n",
      " 1   place_with_parent_names  12834 non-null  object \n",
      " 2   region                   12834 non-null  object \n",
      " 3   lat-lon                  11551 non-null  object \n",
      " 4   area_m2                  12834 non-null  int64  \n",
      " 5   price_usd                12834 non-null  float64\n",
      "dtypes: float64(1), int64(1), object(4)\n",
      "memory usage: 701.9+ KB\n"
     ]
    }
   ],
   "source": [
    "df = pd.read_excel(r'C:\\Users\\project_data\\Brasil-real-estate-1.xlsx', index_col=0)\n",
    "df.info()"
   ]
  },
  {
   "cell_type": "code",
   "execution_count": 3,
   "id": "49a9516b",
   "metadata": {},
   "outputs": [
    {
     "data": {
      "text/html": [
       "<div>\n",
       "<style scoped>\n",
       "    .dataframe tbody tr th:only-of-type {\n",
       "        vertical-align: middle;\n",
       "    }\n",
       "\n",
       "    .dataframe tbody tr th {\n",
       "        vertical-align: top;\n",
       "    }\n",
       "\n",
       "    .dataframe thead th {\n",
       "        text-align: right;\n",
       "    }\n",
       "</style>\n",
       "<table border=\"1\" class=\"dataframe\">\n",
       "  <thead>\n",
       "    <tr style=\"text-align: right;\">\n",
       "      <th></th>\n",
       "      <th>property_type</th>\n",
       "      <th>place_with_parent_names</th>\n",
       "      <th>region</th>\n",
       "      <th>area_m2</th>\n",
       "      <th>price_usd</th>\n",
       "      <th>lat</th>\n",
       "      <th>lon</th>\n",
       "    </tr>\n",
       "  </thead>\n",
       "  <tbody>\n",
       "    <tr>\n",
       "      <th>1</th>\n",
       "      <td>apartment</td>\n",
       "      <td>|Brasil|Alagoas|Maceió|</td>\n",
       "      <td>Northeast</td>\n",
       "      <td>110</td>\n",
       "      <td>187230.85</td>\n",
       "      <td>-9.644305</td>\n",
       "      <td>-35.708814</td>\n",
       "    </tr>\n",
       "    <tr>\n",
       "      <th>2</th>\n",
       "      <td>apartment</td>\n",
       "      <td>|Brasil|Alagoas|Maceió|</td>\n",
       "      <td>Northeast</td>\n",
       "      <td>65</td>\n",
       "      <td>81133.37</td>\n",
       "      <td>-9.643093</td>\n",
       "      <td>-35.704840</td>\n",
       "    </tr>\n",
       "    <tr>\n",
       "      <th>3</th>\n",
       "      <td>house</td>\n",
       "      <td>|Brasil|Alagoas|Maceió|</td>\n",
       "      <td>Northeast</td>\n",
       "      <td>211</td>\n",
       "      <td>154465.45</td>\n",
       "      <td>-9.622703</td>\n",
       "      <td>-35.729795</td>\n",
       "    </tr>\n",
       "    <tr>\n",
       "      <th>4</th>\n",
       "      <td>apartment</td>\n",
       "      <td>|Brasil|Alagoas|Maceió|</td>\n",
       "      <td>Northeast</td>\n",
       "      <td>99</td>\n",
       "      <td>146013.20</td>\n",
       "      <td>-9.622837</td>\n",
       "      <td>-35.719556</td>\n",
       "    </tr>\n",
       "    <tr>\n",
       "      <th>5</th>\n",
       "      <td>apartment</td>\n",
       "      <td>|Brasil|Alagoas|Maceió|</td>\n",
       "      <td>Northeast</td>\n",
       "      <td>55</td>\n",
       "      <td>101416.71</td>\n",
       "      <td>-9.654955</td>\n",
       "      <td>-35.700227</td>\n",
       "    </tr>\n",
       "    <tr>\n",
       "      <th>...</th>\n",
       "      <td>...</td>\n",
       "      <td>...</td>\n",
       "      <td>...</td>\n",
       "      <td>...</td>\n",
       "      <td>...</td>\n",
       "      <td>...</td>\n",
       "      <td>...</td>\n",
       "    </tr>\n",
       "    <tr>\n",
       "      <th>12830</th>\n",
       "      <td>apartment</td>\n",
       "      <td>|Brasil|Pernambuco|Recife|</td>\n",
       "      <td>Northeast</td>\n",
       "      <td>91</td>\n",
       "      <td>174748.79</td>\n",
       "      <td>-8.056418</td>\n",
       "      <td>-34.909309</td>\n",
       "    </tr>\n",
       "    <tr>\n",
       "      <th>12831</th>\n",
       "      <td>apartment</td>\n",
       "      <td>|Brasil|Pernambuco|Recife|</td>\n",
       "      <td>Northeast</td>\n",
       "      <td>115</td>\n",
       "      <td>115459.02</td>\n",
       "      <td>-8.137348</td>\n",
       "      <td>-34.909181</td>\n",
       "    </tr>\n",
       "    <tr>\n",
       "      <th>12832</th>\n",
       "      <td>apartment</td>\n",
       "      <td>|Brasil|Pernambuco|Recife|Boa Viagem|</td>\n",
       "      <td>Northeast</td>\n",
       "      <td>76</td>\n",
       "      <td>137302.62</td>\n",
       "      <td>-8.113672</td>\n",
       "      <td>-34.896252</td>\n",
       "    </tr>\n",
       "    <tr>\n",
       "      <th>12833</th>\n",
       "      <td>apartment</td>\n",
       "      <td>|Brasil|Pernambuco|Recife|Boa Viagem|</td>\n",
       "      <td>Northeast</td>\n",
       "      <td>130</td>\n",
       "      <td>234038.56</td>\n",
       "      <td>NaN</td>\n",
       "      <td>NaN</td>\n",
       "    </tr>\n",
       "    <tr>\n",
       "      <th>12834</th>\n",
       "      <td>apartment</td>\n",
       "      <td>|Brasil|Pernambuco|Recife|Boa Viagem|</td>\n",
       "      <td>Northeast</td>\n",
       "      <td>99</td>\n",
       "      <td>168507.77</td>\n",
       "      <td>-8.057838</td>\n",
       "      <td>-34.882897</td>\n",
       "    </tr>\n",
       "  </tbody>\n",
       "</table>\n",
       "<p>12834 rows × 7 columns</p>\n",
       "</div>"
      ],
      "text/plain": [
       "      property_type                place_with_parent_names     region  \\\n",
       "1         apartment                |Brasil|Alagoas|Maceió|  Northeast   \n",
       "2         apartment                |Brasil|Alagoas|Maceió|  Northeast   \n",
       "3             house                |Brasil|Alagoas|Maceió|  Northeast   \n",
       "4         apartment                |Brasil|Alagoas|Maceió|  Northeast   \n",
       "5         apartment                |Brasil|Alagoas|Maceió|  Northeast   \n",
       "...             ...                                    ...        ...   \n",
       "12830     apartment             |Brasil|Pernambuco|Recife|  Northeast   \n",
       "12831     apartment             |Brasil|Pernambuco|Recife|  Northeast   \n",
       "12832     apartment  |Brasil|Pernambuco|Recife|Boa Viagem|  Northeast   \n",
       "12833     apartment  |Brasil|Pernambuco|Recife|Boa Viagem|  Northeast   \n",
       "12834     apartment  |Brasil|Pernambuco|Recife|Boa Viagem|  Northeast   \n",
       "\n",
       "       area_m2  price_usd       lat        lon  \n",
       "1          110  187230.85 -9.644305 -35.708814  \n",
       "2           65   81133.37 -9.643093 -35.704840  \n",
       "3          211  154465.45 -9.622703 -35.729795  \n",
       "4           99  146013.20 -9.622837 -35.719556  \n",
       "5           55  101416.71 -9.654955 -35.700227  \n",
       "...        ...        ...       ...        ...  \n",
       "12830       91  174748.79 -8.056418 -34.909309  \n",
       "12831      115  115459.02 -8.137348 -34.909181  \n",
       "12832       76  137302.62 -8.113672 -34.896252  \n",
       "12833      130  234038.56       NaN        NaN  \n",
       "12834       99  168507.77 -8.057838 -34.882897  \n",
       "\n",
       "[12834 rows x 7 columns]"
      ]
     },
     "execution_count": 3,
     "metadata": {},
     "output_type": "execute_result"
    }
   ],
   "source": [
    "##split the lat-lon column into 2,then drop the lat-lon col\n",
    "df[[\"lat\", \"lon\"]] = df[\"lat-lon\"].str.split(\",\", expand=True).astype(float)\n",
    "df.drop(columns= [\"lat-lon\"], inplace=True)\n",
    "df"
   ]
  },
  {
   "cell_type": "code",
   "execution_count": 4,
   "id": "f859d2f0",
   "metadata": {},
   "outputs": [
    {
     "name": "stdout",
     "output_type": "stream",
     "text": [
      "<class 'pandas.core.frame.DataFrame'>\n",
      "Int64Index: 11551 entries, 1 to 12834\n",
      "Data columns (total 7 columns):\n",
      " #   Column         Non-Null Count  Dtype  \n",
      "---  ------         --------------  -----  \n",
      " 0   property_type  11551 non-null  object \n",
      " 1   region         11551 non-null  object \n",
      " 2   area_m2        11551 non-null  int64  \n",
      " 3   price_usd      11551 non-null  float64\n",
      " 4   lat            11551 non-null  float64\n",
      " 5   lon            11551 non-null  float64\n",
      " 6   state          11551 non-null  object \n",
      "dtypes: float64(3), int64(1), object(3)\n",
      "memory usage: 721.9+ KB\n"
     ]
    }
   ],
   "source": [
    "## Create a  state column from the place with parent names column, then drop place_with_parent_names column\n",
    "df[\"state\"] = df[\"place_with_parent_names\"].str.split(\"|\", expand=True) [2]\n",
    "df.drop(columns= [\"place_with_parent_names\"], inplace=True)\n",
    "df.dropna(inplace=True)\n",
    "df.info()"
   ]
  },
  {
   "cell_type": "code",
   "execution_count": 27,
   "id": "a873b65c",
   "metadata": {},
   "outputs": [
    {
     "data": {
      "text/plain": [
       "c\n",
       "1        apartment\n",
       "2        apartment\n",
       "3        apartment\n",
       "4        apartment\n",
       "5        apartment\n",
       "           ...    \n",
       "12828        house\n",
       "12829        house\n",
       "12830    apartment\n",
       "12831    apartment\n",
       "12833    apartment\n",
       "Name: property_type, Length: 11293, dtype: object"
      ]
     },
     "execution_count": 27,
     "metadata": {},
     "output_type": "execute_result"
    }
   ],
   "source": [
    "\n",
    "df1 = pd.read_excel(r\"C:\\Users\\project_data\\Brasil-real-estate-2.xlsx\", index_col=0)\n",
    "df1.info()\n",
    "#df1[\"property_type\"]"
   ]
  },
  {
   "cell_type": "code",
   "execution_count": 6,
   "id": "e427b5d0",
   "metadata": {},
   "outputs": [
    {
     "name": "stdout",
     "output_type": "stream",
     "text": [
      "<class 'pandas.core.frame.DataFrame'>\n",
      "Int64Index: 12833 entries, 1 to 12833\n",
      "Data columns (total 8 columns):\n",
      " #   Column         Non-Null Count  Dtype  \n",
      "---  ------         --------------  -----  \n",
      " 0   property_type  12833 non-null  object \n",
      " 1   state          12833 non-null  object \n",
      " 2   region         12833 non-null  object \n",
      " 3   lat            12833 non-null  float64\n",
      " 4   lon            12833 non-null  float64\n",
      " 5   area_m2        11293 non-null  float64\n",
      " 6   price_brl      12833 non-null  float64\n",
      " 7   price_usd      12833 non-null  float64\n",
      "dtypes: float64(5), object(3)\n",
      "memory usage: 902.3+ KB\n"
     ]
    }
   ],
   "source": [
    "## Convert the price_brl to price_usd, as at 2015-2016 when the data was collected, a USD cost 3.19 Brazilian\n",
    "df1[\"price_usd\"] = df1[\"price_brl\"] / 3.19\n",
    "df1[\"price_usd\"]\n",
    "df1.info()"
   ]
  },
  {
   "cell_type": "code",
   "execution_count": 7,
   "id": "7c5641eb",
   "metadata": {},
   "outputs": [
    {
     "name": "stdout",
     "output_type": "stream",
     "text": [
      "<class 'pandas.core.frame.DataFrame'>\n",
      "Int64Index: 11293 entries, 1 to 12833\n",
      "Data columns (total 7 columns):\n",
      " #   Column         Non-Null Count  Dtype  \n",
      "---  ------         --------------  -----  \n",
      " 0   property_type  11293 non-null  object \n",
      " 1   state          11293 non-null  object \n",
      " 2   region         11293 non-null  object \n",
      " 3   lat            11293 non-null  float64\n",
      " 4   lon            11293 non-null  float64\n",
      " 5   area_m2        11293 non-null  float64\n",
      " 6   price_usd      11293 non-null  float64\n",
      "dtypes: float64(4), object(3)\n",
      "memory usage: 705.8+ KB\n"
     ]
    }
   ],
   "source": [
    "## drop price_brl column and any nan column\n",
    "df1.drop(columns= [\"price_brl\"], inplace=True)\n",
    "df1.dropna(inplace=True)\n",
    "df1.info()"
   ]
  },
  {
   "cell_type": "code",
   "execution_count": 9,
   "id": "b62d212f",
   "metadata": {},
   "outputs": [
    {
     "name": "stdout",
     "output_type": "stream",
     "text": [
      "<class 'pandas.core.frame.DataFrame'>\n",
      "Int64Index: 22844 entries, 1 to 12833\n",
      "Data columns (total 7 columns):\n",
      " #   Column         Non-Null Count  Dtype  \n",
      "---  ------         --------------  -----  \n",
      " 0   property_type  22844 non-null  object \n",
      " 1   region         22844 non-null  object \n",
      " 2   area_m2        22844 non-null  float64\n",
      " 3   price_usd      22844 non-null  float64\n",
      " 4   lat            22844 non-null  float64\n",
      " 5   lon            22844 non-null  float64\n",
      " 6   state          22844 non-null  object \n",
      "dtypes: float64(4), object(3)\n",
      "memory usage: 1.4+ MB\n"
     ]
    }
   ],
   "source": [
    "## Concatenate df1 and df2 to create a new DataFrame named df.\n",
    "df2 = pd.concat([df,df1])\n",
    "df2.info()"
   ]
  },
  {
   "cell_type": "code",
   "execution_count": null,
   "id": "4d418fe5",
   "metadata": {},
   "outputs": [],
   "source": [
    "!pip3 install plotly"
   ]
  },
  {
   "cell_type": "code",
   "execution_count": null,
   "id": "a2ae1e48",
   "metadata": {},
   "outputs": [],
   "source": [
    "import matplotlib.pyplot as plt\n",
    "import plotly.express as px\n",
    "fig = px.scatter_mapbox(df,\n",
    "    lat=\"lat\",\n",
    "    lon=\"lon\",\n",
    "    center={\"lat\": -14.2, \"lon\": -51.9},  # Map will be centered on Brazil\n",
    "    width=600,\n",
    "    height=600,\n",
    "    hover_data=[\"price_usd\"],  # Display price when hovering mouse over house\n",
    ")\n",
    "\n",
    "fig.update_layout(mapbox_style=\"open-street-map\")\n",
    "fig.show()"
   ]
  },
  {
   "cell_type": "code",
   "execution_count": 18,
   "id": "414fdaf8",
   "metadata": {},
   "outputs": [
    {
     "data": {
      "text/html": [
       "<div>\n",
       "<style scoped>\n",
       "    .dataframe tbody tr th:only-of-type {\n",
       "        vertical-align: middle;\n",
       "    }\n",
       "\n",
       "    .dataframe tbody tr th {\n",
       "        vertical-align: top;\n",
       "    }\n",
       "\n",
       "    .dataframe thead th {\n",
       "        text-align: right;\n",
       "    }\n",
       "</style>\n",
       "<table border=\"1\" class=\"dataframe\">\n",
       "  <thead>\n",
       "    <tr style=\"text-align: right;\">\n",
       "      <th></th>\n",
       "      <th>area_m2</th>\n",
       "      <th>price_usd</th>\n",
       "    </tr>\n",
       "  </thead>\n",
       "  <tbody>\n",
       "    <tr>\n",
       "      <th>count</th>\n",
       "      <td>22844.000000</td>\n",
       "      <td>22844.000000</td>\n",
       "    </tr>\n",
       "    <tr>\n",
       "      <th>mean</th>\n",
       "      <td>115.020224</td>\n",
       "      <td>194987.315480</td>\n",
       "    </tr>\n",
       "    <tr>\n",
       "      <th>std</th>\n",
       "      <td>47.742932</td>\n",
       "      <td>103617.682978</td>\n",
       "    </tr>\n",
       "    <tr>\n",
       "      <th>min</th>\n",
       "      <td>53.000000</td>\n",
       "      <td>74892.340000</td>\n",
       "    </tr>\n",
       "    <tr>\n",
       "      <th>25%</th>\n",
       "      <td>76.000000</td>\n",
       "      <td>113898.770000</td>\n",
       "    </tr>\n",
       "    <tr>\n",
       "      <th>50%</th>\n",
       "      <td>103.000000</td>\n",
       "      <td>165697.555000</td>\n",
       "    </tr>\n",
       "    <tr>\n",
       "      <th>75%</th>\n",
       "      <td>142.000000</td>\n",
       "      <td>246900.880878</td>\n",
       "    </tr>\n",
       "    <tr>\n",
       "      <th>max</th>\n",
       "      <td>252.000000</td>\n",
       "      <td>525659.717868</td>\n",
       "    </tr>\n",
       "  </tbody>\n",
       "</table>\n",
       "</div>"
      ],
      "text/plain": [
       "            area_m2      price_usd\n",
       "count  22844.000000   22844.000000\n",
       "mean     115.020224  194987.315480\n",
       "std       47.742932  103617.682978\n",
       "min       53.000000   74892.340000\n",
       "25%       76.000000  113898.770000\n",
       "50%      103.000000  165697.555000\n",
       "75%      142.000000  246900.880878\n",
       "max      252.000000  525659.717868"
      ]
     },
     "execution_count": 18,
     "metadata": {},
     "output_type": "execute_result"
    }
   ],
   "source": [
    "summary_stats = df2[[\"area_m2\", \"price_usd\"]].describe()\n",
    "summary_stats"
   ]
  },
  {
   "cell_type": "code",
   "execution_count": 19,
   "id": "082caca4",
   "metadata": {},
   "outputs": [
    {
     "data": {
      "image/png": "[encoded data removed]",
      "text/plain": [
       "<Figure size 432x288 with 1 Axes>"
      ]
     },
     "metadata": {
      "needs_background": "light"
     },
     "output_type": "display_data"
    }
   ],
   "source": [
    "plt.hist(df[\"price_usd\"])\n",
    "plt.xlabel(\"Price [USD]\")\n",
    "plt.ylabel(\"Frequency\")\n",
    "plt.title(\"Distribution of Home Prices\");"
   ]
  },
  {
   "cell_type": "code",
   "execution_count": 20,
   "id": "51955191",
   "metadata": {},
   "outputs": [
    {
     "data": {
      "image/png": "[encoded data removed]",
      "text/plain": [
       "<Figure size 432x288 with 1 Axes>"
      ]
     },
     "metadata": {
      "needs_background": "light"
     },
     "output_type": "display_data"
    }
   ],
   "source": [
    "plt.boxplot(df[\"area_m2\"], vert=False)\n",
    "plt.xlabel(\"Area [sq meters]\")\n",
    "plt.title(\"Distribution of Home Sizes\");"
   ]
  },
  {
   "cell_type": "code",
   "execution_count": 21,
   "id": "6852f949",
   "metadata": {},
   "outputs": [
    {
     "data": {
      "text/plain": [
       "region\n",
       "South           164168.840031\n",
       "Central-West    178596.283663\n",
       "North           182761.422871\n",
       "Northeast       185993.562957\n",
       "Southeast       191811.451904\n",
       "Name: price_usd, dtype: float64"
      ]
     },
     "execution_count": 21,
     "metadata": {},
     "output_type": "execute_result"
    }
   ],
   "source": [
    "mean_price_by_region = df.groupby(\"region\")[\"price_usd\"].mean().sort_values(ascending=True)\n",
    "mean_price_by_region"
   ]
  },
  {
   "cell_type": "code",
   "execution_count": 22,
   "id": "ab42a70b",
   "metadata": {},
   "outputs": [
    {
     "data": {
      "image/png": "[encoded data removed]",
      "text/plain": [
       "<Figure size 432x288 with 1 Axes>"
      ]
     },
     "metadata": {
      "needs_background": "light"
     },
     "output_type": "display_data"
    }
   ],
   "source": [
    "mean_price_by_region.plot(\n",
    "    kind=\"bar\",\n",
    "    xlabel=\"Region\",\n",
    "    ylabel=\"Mean Price [USD]\",\n",
    "    title=\"Mean Home Price by Region\"\n",
    ");"
   ]
  },
  {
   "cell_type": "code",
   "execution_count": 34,
   "id": "8260a9c7",
   "metadata": {},
   "outputs": [
    {
     "data": {
      "text/html": [
       "<div>\n",
       "<style scoped>\n",
       "    .dataframe tbody tr th:only-of-type {\n",
       "        vertical-align: middle;\n",
       "    }\n",
       "\n",
       "    .dataframe tbody tr th {\n",
       "        vertical-align: top;\n",
       "    }\n",
       "\n",
       "    .dataframe thead th {\n",
       "        text-align: right;\n",
       "    }\n",
       "</style>\n",
       "<table border=\"1\" class=\"dataframe\">\n",
       "  <thead>\n",
       "    <tr style=\"text-align: right;\">\n",
       "      <th></th>\n",
       "      <th>property_type</th>\n",
       "      <th>region</th>\n",
       "      <th>area_m2</th>\n",
       "      <th>price_usd</th>\n",
       "      <th>lat</th>\n",
       "      <th>lon</th>\n",
       "      <th>state</th>\n",
       "    </tr>\n",
       "  </thead>\n",
       "  <tbody>\n",
       "    <tr>\n",
       "      <th>9305</th>\n",
       "      <td>apartment</td>\n",
       "      <td>South</td>\n",
       "      <td>127.0</td>\n",
       "      <td>296448.85</td>\n",
       "      <td>-25.455704</td>\n",
       "      <td>-49.292918</td>\n",
       "      <td>Paraná</td>\n",
       "    </tr>\n",
       "    <tr>\n",
       "      <th>9306</th>\n",
       "      <td>apartment</td>\n",
       "      <td>South</td>\n",
       "      <td>104.0</td>\n",
       "      <td>219996.25</td>\n",
       "      <td>-25.455704</td>\n",
       "      <td>-49.292918</td>\n",
       "      <td>Paraná</td>\n",
       "    </tr>\n",
       "    <tr>\n",
       "      <th>9307</th>\n",
       "      <td>apartment</td>\n",
       "      <td>South</td>\n",
       "      <td>100.0</td>\n",
       "      <td>194210.50</td>\n",
       "      <td>-25.460236</td>\n",
       "      <td>-49.293812</td>\n",
       "      <td>Paraná</td>\n",
       "    </tr>\n",
       "    <tr>\n",
       "      <th>9308</th>\n",
       "      <td>apartment</td>\n",
       "      <td>South</td>\n",
       "      <td>77.0</td>\n",
       "      <td>149252.94</td>\n",
       "      <td>-25.460236</td>\n",
       "      <td>-49.293812</td>\n",
       "      <td>Paraná</td>\n",
       "    </tr>\n",
       "    <tr>\n",
       "      <th>9309</th>\n",
       "      <td>apartment</td>\n",
       "      <td>South</td>\n",
       "      <td>73.0</td>\n",
       "      <td>144167.75</td>\n",
       "      <td>-25.460236</td>\n",
       "      <td>-49.293812</td>\n",
       "      <td>Paraná</td>\n",
       "    </tr>\n",
       "  </tbody>\n",
       "</table>\n",
       "</div>"
      ],
      "text/plain": [
       "     property_type region  area_m2  price_usd        lat        lon   state\n",
       "9305     apartment  South    127.0  296448.85 -25.455704 -49.292918  Paraná\n",
       "9306     apartment  South    104.0  219996.25 -25.455704 -49.292918  Paraná\n",
       "9307     apartment  South    100.0  194210.50 -25.460236 -49.293812  Paraná\n",
       "9308     apartment  South     77.0  149252.94 -25.460236 -49.293812  Paraná\n",
       "9309     apartment  South     73.0  144167.75 -25.460236 -49.293812  Paraná"
      ]
     },
     "execution_count": 34,
     "metadata": {},
     "output_type": "execute_result"
    }
   ],
   "source": [
    "## Focusing on the southern region of brazil looking at the relationship between home size and price.\n",
    "df_south = df2[df2[\"region\"] == \"South\"]\n",
    "df_south.head()"
   ]
  },
  {
   "cell_type": "code",
   "execution_count": 25,
   "id": "287f8e55",
   "metadata": {},
   "outputs": [
    {
     "data": {
      "text/plain": [
       "9305    apartment\n",
       "9306    apartment\n",
       "9307    apartment\n",
       "9308    apartment\n",
       "9309    apartment\n",
       "Name: property_type, dtype: object"
      ]
     },
     "execution_count": 25,
     "metadata": {},
     "output_type": "execute_result"
    }
   ],
   "source": [
    "df_south[\"property_type\"].head()"
   ]
  },
  {
   "cell_type": "code",
   "execution_count": 36,
   "id": "f97117c1",
   "metadata": {},
   "outputs": [
    {
     "data": {
      "text/plain": [
       "Rio Grande do Sul    2643\n",
       "Santa Catarina       2634\n",
       "Paraná               2544\n",
       "Name: state, dtype: int64"
      ]
     },
     "execution_count": 36,
     "metadata": {},
     "output_type": "execute_result"
    }
   ],
   "source": [
    "#The number of apartment in each state\n",
    "homes_by_state = df_south[\"state\"].value_counts()\n",
    "homes_by_state\n",
    "#df_south.isin([\"Santa Catarina\"]).any()"
   ]
  },
  {
   "cell_type": "code",
   "execution_count": 38,
   "id": "fb65d119",
   "metadata": {},
   "outputs": [
    {
     "data": {
      "image/png": "[encoded data removed]",
      "text/plain": [
       "<Figure size 432x288 with 1 Axes>"
      ]
     },
     "metadata": {
      "needs_background": "light"
     },
     "output_type": "display_data"
    }
   ],
   "source": [
    "# Scatter plot showing price vs area for the state in Rio Grande do Sul\n",
    "df_rio = df_south[df_south[\"state\"] == \"Rio Grande do Sul\"]\n",
    "plt.scatter(x=df_rio[\"area_m2\"], y=df_rio[\"price_usd\"])\n",
    "plt.xlabel(\"Area [sq meters]\")\n",
    "plt.ylabel(\"Price [USD]\")\n",
    "plt.title(\"Rio Grande do Sul: Price vs Area\");\n"
   ]
  },
  {
   "cell_type": "code",
   "execution_count": 40,
   "id": "3acd43ea",
   "metadata": {},
   "outputs": [
    {
     "name": "stdout",
     "output_type": "stream",
     "text": [
      "0.5068121776366777\n"
     ]
    }
   ],
   "source": [
    "df_santa = df_south[df_south[\"state\"] == \"Santa Catarina\"]\n",
    "df_santa\n",
    "p_corr_santa = df_santa[\"area_m2\"].corr(df_santa[\"price_usd\"])\n",
    "print(p_corr_santa)\n"
   ]
  },
  {
   "cell_type": "code",
   "execution_count": 41,
   "id": "336ef6e2",
   "metadata": {},
   "outputs": [
    {
     "name": "stdout",
     "output_type": "stream",
     "text": [
      "0.5773267433717684\n"
     ]
    }
   ],
   "source": [
    "df_rio = df_south[df_south[\"state\"] == \"Rio Grande do Sul\"]\n",
    "df_rio\n",
    "p_corr_rio = df_rio[\"area_m2\"].corr(df_rio[\"price_usd\"])\n",
    "print(p_corr_rio)\n"
   ]
  },
  {
   "cell_type": "code",
   "execution_count": 42,
   "id": "0ddc66ae",
   "metadata": {},
   "outputs": [
    {
     "name": "stdout",
     "output_type": "stream",
     "text": [
      "0.5773267433717684\n"
     ]
    }
   ],
   "source": [
    "df_parana = df_south[df_south[\"state\"] == \"Parana\"]\n",
    "df_parana\n",
    "p_corr_parana = df_rio[\"area_m2\"].corr(df_rio[\"price_usd\"])\n",
    "print(p_corr_parana)\n"
   ]
  },
  {
   "cell_type": "code",
   "execution_count": null,
   "id": "f4b330c6",
   "metadata": {},
   "outputs": [],
   "source": []
  }
 ],
 "metadata": {
  "kernelspec": {
   "display_name": "Python 3",
   "language": "python",
   "name": "python3"
  },
  "language_info": {
   "codemirror_mode": {
    "name": "ipython",
    "version": 3
   },
   "file_extension": ".py",
   "mimetype": "text/x-python",
   "name": "python",
   "nbconvert_exporter": "python",
   "pygments_lexer": "ipython3",
   "version": "3.8.8"
  }
 },
 "nbformat": 4,
 "nbformat_minor": 5
}
